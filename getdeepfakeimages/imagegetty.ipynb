{
 "cells": [
  {
   "cell_type": "markdown",
   "metadata": {},
   "source": [
    "##### Python script to download an image from a remote server https://thispersondoesnotexist.com/"
   ]
  },
  {
   "cell_type": "code",
   "execution_count": 1,
   "metadata": {},
   "outputs": [],
   "source": [
    "import requests\n",
    "import time"
   ]
  },
  {
   "cell_type": "markdown",
   "metadata": {},
   "source": [
    "#### Python function/module to downlaod an image from remote server"
   ]
  },
  {
   "cell_type": "code",
   "execution_count": 2,
   "metadata": {},
   "outputs": [],
   "source": [
    "def download_image(url, save_path):\n",
    "\n",
    "    \"\"\"\n",
    "    The function downloads the image in chunks, which is useful for downloading large files efficiently \n",
    "    and save the image with a specific filename and extension.\n",
    "    \n",
    "\n",
    "    Parameters\n",
    "    ----------\n",
    "    url - url to the remote server for an image download\n",
    "\n",
    "    save_path - The save part to the downloaded images\n",
    "\n",
    "    Return\n",
    "    -------\n",
    "    n/a\n",
    "\n",
    "    \"\"\"\n",
    "\n",
    "    try:\n",
    "        # Send a GET request to the image URL\n",
    "        response = requests.get(url, stream=True)\n",
    "        \n",
    "        # Check if the request was successful (status code 200)\n",
    "        if response.status_code == 200:\n",
    "            # Open a file with write-binary mode and save the image content\n",
    "            with open(save_path, 'wb') as file:\n",
    "                for chunk in response.iter_content(chunk_size=1024):\n",
    "                    if chunk:\n",
    "                        file.write(chunk)\n",
    "                \n",
    "            print(f\"Image downloaded successfully and saved at: {save_path}\")\n",
    "        else:\n",
    "            print(f\"Failed to download image. Status code: {response.status_code}\")\n",
    "\n",
    "    except Exception as e:\n",
    "        print(f\"An error occurred: {e}\")"
   ]
  },
  {
   "cell_type": "code",
   "execution_count": 6,
   "metadata": {},
   "outputs": [
    {
     "name": "stdout",
     "output_type": "stream",
     "text": [
      "Image downloaded successfully and saved at: ./fake/photo_2.jpg\n"
     ]
    }
   ],
   "source": [
    "### remote server for fake images\n",
    "image_url = 'https://thispersondoesnotexist.com/'   \n",
    "\n",
    "### A loop with sleep/pause time of 5 seconds after each image downlaod from the remote server\n",
    "for i in range(2,3):\n",
    "    save_path = f'./fake/photo_{i}.jpg'\n",
    "    download_image(image_url, save_path)\n",
    "    time.sleep(5)"
   ]
  }
 ],
 "metadata": {
  "kernelspec": {
   "display_name": "env",
   "language": "python",
   "name": "python3"
  },
  "language_info": {
   "codemirror_mode": {
    "name": "ipython",
    "version": 3
   },
   "file_extension": ".py",
   "mimetype": "text/x-python",
   "name": "python",
   "nbconvert_exporter": "python",
   "pygments_lexer": "ipython3",
   "version": "3.11.5"
  }
 },
 "nbformat": 4,
 "nbformat_minor": 2
}
