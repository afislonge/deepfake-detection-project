{
  "nbformat": 4,
  "nbformat_minor": 0,
  "metadata": {
    "colab": {
      "provenance": []
    },
    "kernelspec": {
      "name": "python3",
      "display_name": "Python 3"
    },
    "language_info": {
      "name": "python"
    }
  },
  "cells": [
    {
      "cell_type": "code",
      "execution_count": 1,
      "metadata": {
        "id": "fagDBEyPe-gi"
      },
      "outputs": [],
      "source": [
        "def find_longest_string(list_of_strings):\n",
        "    longest_string = None\n",
        "    longest_string_len = 0\n",
        "    for s in list_of_strings:\n",
        "        if len(s) > longest_string_len:\n",
        "            longest_string_len = len(s)\n",
        "            longest_string = s\n",
        "    return longest_string"
      ]
    },
    {
      "cell_type": "code",
      "source": [
        "list_of_strings = ['abc', 'python', 'dima']\n",
        "%time max_length = print(find_longest_string(list_of_strings))"
      ],
      "metadata": {
        "colab": {
          "base_uri": "https://localhost:8080/"
        },
        "id": "f_TX3Af8fCqL",
        "outputId": "719aad1c-d3f3-4a6e-d4b4-356f38a6d287"
      },
      "execution_count": 2,
      "outputs": [
        {
          "output_type": "stream",
          "name": "stdout",
          "text": [
            "python\n",
            "CPU times: user 846 µs, sys: 0 ns, total: 846 µs\n",
            "Wall time: 1.08 ms\n"
          ]
        }
      ]
    },
    {
      "cell_type": "code",
      "source": [
        "large_list_of_strings = list_of_strings*1000\n",
        "%time print(find_longest_string(large_list_of_strings))"
      ],
      "metadata": {
        "colab": {
          "base_uri": "https://localhost:8080/"
        },
        "id": "pnlqkEILfLzm",
        "outputId": "6ca1836e-d89c-45db-d456-367b9a9ead0d"
      },
      "execution_count": 3,
      "outputs": [
        {
          "output_type": "stream",
          "name": "stdout",
          "text": [
            "python\n",
            "CPU times: user 1.13 ms, sys: 20 µs, total: 1.15 ms\n",
            "Wall time: 1.13 ms\n"
          ]
        }
      ]
    },
    {
      "cell_type": "code",
      "source": [
        "large_list_of_strings = list_of_strings*100000000\n",
        "%time max_length = max(large_list_of_strings, key=len)"
      ],
      "metadata": {
        "colab": {
          "base_uri": "https://localhost:8080/"
        },
        "id": "NlzcqUV9fYlU",
        "outputId": "0ad4b833-94f8-4133-c52e-ad4f07cefb3c"
      },
      "execution_count": 4,
      "outputs": [
        {
          "output_type": "stream",
          "name": "stdout",
          "text": [
            "CPU times: user 11.3 s, sys: 91 ms, total: 11.4 s\n",
            "Wall time: 12.6 s\n"
          ]
        }
      ]
    },
    {
      "cell_type": "code",
      "source": [
        "%%time\n",
        "# step 1:\n",
        "list_of_string_lens = [len(s) for s in list_of_strings]\n",
        "list_of_string_lens = zip(list_of_strings, list_of_string_lens)\n",
        "#step 2:\n",
        "max_len = max(list_of_string_lens, key=lambda t: t[1])\n",
        "print(max_len)"
      ],
      "metadata": {
        "colab": {
          "base_uri": "https://localhost:8080/"
        },
        "id": "ZaDb3PD8figq",
        "outputId": "47debde5-ac44-4a08-a67a-e304a7667d05"
      },
      "execution_count": 5,
      "outputs": [
        {
          "output_type": "stream",
          "name": "stdout",
          "text": [
            "('python', 6)\n",
            "CPU times: user 1.04 ms, sys: 0 ns, total: 1.04 ms\n",
            "Wall time: 1.37 ms\n"
          ]
        }
      ]
    },
    {
      "cell_type": "code",
      "source": [
        "mapper = len\n",
        "def reducer(p, c):\n",
        "    if p[1] > c[1]:\n",
        "        return p\n",
        "    return c"
      ],
      "metadata": {
        "id": "kN6ER8qafuad"
      },
      "execution_count": 6,
      "outputs": []
    },
    {
      "cell_type": "code",
      "source": [
        "%%time\n",
        "#step 1\n",
        "from functools import reduce\n",
        "mapped = map(mapper, list_of_strings)\n",
        "mapped = zip(list_of_strings, mapped)\n",
        "#step 2:\n",
        "reduced = reduce(reducer, mapped)\n",
        "print(reduced)"
      ],
      "metadata": {
        "colab": {
          "base_uri": "https://localhost:8080/"
        },
        "id": "QsejUw0bf4dK",
        "outputId": "9f6167db-328d-471c-c771-7d7c640e1e5a"
      },
      "execution_count": 7,
      "outputs": [
        {
          "output_type": "stream",
          "name": "stdout",
          "text": [
            "('python', 6)\n",
            "CPU times: user 115 µs, sys: 0 ns, total: 115 µs\n",
            "Wall time: 122 µs\n"
          ]
        }
      ]
    },
    {
      "cell_type": "code",
      "source": [
        "!pip show more_itertools\n",
        "import more_itertools\n",
        "print(dir(more_itertools))"
      ],
      "metadata": {
        "colab": {
          "base_uri": "https://localhost:8080/"
        },
        "id": "F7H_tCX1hG5s",
        "outputId": "c9772f49-f292-4a8e-db34-02cf920ff262"
      },
      "execution_count": 8,
      "outputs": [
        {
          "output_type": "stream",
          "name": "stdout",
          "text": [
            "Name: more-itertools\n",
            "Version: 10.1.0\n",
            "Summary: More routines for operating on iterables, beyond itertools\n",
            "Home-page: \n",
            "Author: \n",
            "Author-email: Erik Rose <erikrose@grinchcentral.com>\n",
            "License: \n",
            "Location: /usr/local/lib/python3.10/dist-packages\n",
            "Requires: \n",
            "Required-by: music21\n",
            "['AbortThread', 'SequenceView', 'UnequalIterablesError', '__builtins__', '__cached__', '__doc__', '__file__', '__loader__', '__name__', '__package__', '__path__', '__spec__', '__version__', 'adjacent', 'all_equal', 'all_unique', 'always_iterable', 'always_reversible', 'batched', 'before_and_after', 'bucket', 'callback_iter', 'chunked', 'chunked_even', 'circular_shifts', 'collapse', 'combination_index', 'combination_with_replacement_index', 'consecutive_groups', 'constrained_batches', 'consume', 'consumer', 'convolve', 'count_cycle', 'countable', 'difference', 'distinct_combinations', 'distinct_permutations', 'distribute', 'divide', 'dotproduct', 'duplicates_everseen', 'duplicates_justseen', 'exactly_n', 'factor', 'filter_except', 'first', 'first_true', 'flatten', 'gray_product', 'groupby_transform', 'grouper', 'ichunked', 'iequals', 'ilen', 'interleave', 'interleave_evenly', 'interleave_longest', 'intersperse', 'is_sorted', 'islice_extended', 'iter_except', 'iter_index', 'iterate', 'last', 'locate', 'longest_common_prefix', 'lstrip', 'make_decorator', 'map_except', 'map_if', 'map_reduce', 'mark_ends', 'matmul', 'minmax', 'more', 'ncycles', 'nth', 'nth_combination', 'nth_combination_with_replacement', 'nth_or_last', 'nth_permutation', 'nth_product', 'numeric_range', 'one', 'only', 'outer_product', 'pad_none', 'padded', 'padnone', 'pairwise', 'partial_product', 'partition', 'partitions', 'peekable', 'permutation_index', 'polynomial_derivative', 'polynomial_eval', 'polynomial_from_roots', 'powerset', 'prepend', 'product_index', 'quantify', 'raise_', 'random_combination', 'random_combination_with_replacement', 'random_permutation', 'random_product', 'recipes', 'repeat_each', 'repeat_last', 'repeatfunc', 'replace', 'rlocate', 'roundrobin', 'rstrip', 'run_length', 'sample', 'seekable', 'set_partitions', 'side_effect', 'sieve', 'sliced', 'sliding_window', 'sort_together', 'split_after', 'split_at', 'split_before', 'split_into', 'split_when', 'spy', 'stagger', 'strictly_n', 'strip', 'subslices', 'substrings', 'substrings_indexes', 'sum_of_squares', 'tabulate', 'tail', 'take', 'takewhile_inclusive', 'time_limited', 'transpose', 'triplewise', 'unique_everseen', 'unique_in_window', 'unique_justseen', 'unique_to_each', 'unzip', 'value_chain', 'windowed', 'windowed_complete', 'with_iter', 'zip_broadcast', 'zip_equal', 'zip_offset']\n"
          ]
        }
      ]
    },
    {
      "cell_type": "code",
      "source": [
        "%%time\n",
        "!pip install more_itertools\n",
        "from more_itertools import chunked\n",
        "\n",
        "\n",
        "data_chunks = list(chunked(list_of_strings, 30))\n",
        "#step 1:\n",
        "reduced_all = []\n",
        "for chunk in data_chunks:\n",
        "    mapped_chunk = map(mapper, chunk)\n",
        "    mapped_chunk = zip(chunk, mapped_chunk)\n",
        "\n",
        "    reduced_chunk = reduce(reducer, mapped_chunk)\n",
        "    reduced_all.append(reduced_chunk)\n",
        "\n",
        "#step 2:\n",
        "reduced = reduce(reducer, reduced_all)\n",
        "print(reduced)"
      ],
      "metadata": {
        "colab": {
          "base_uri": "https://localhost:8080/"
        },
        "id": "fOiu8EvHgA2Z",
        "outputId": "aac71c38-0499-4306-9143-f3bcd60a323b"
      },
      "execution_count": 9,
      "outputs": [
        {
          "output_type": "stream",
          "name": "stdout",
          "text": [
            "Requirement already satisfied: more_itertools in /usr/local/lib/python3.10/dist-packages (10.1.0)\n",
            "('python', 6)\n",
            "CPU times: user 69.5 ms, sys: 8.83 ms, total: 78.3 ms\n",
            "Wall time: 6.45 s\n"
          ]
        }
      ]
    },
    {
      "cell_type": "code",
      "source": [
        "%%time\n",
        "def chunks_mapper(chunk):\n",
        "    mapped_chunk = map(mapper, chunk)\n",
        "    mapped_chunk = zip(chunk, mapped_chunk)\n",
        "    return reduce(reducer, mapped_chunk)\n",
        "\n",
        "data_chunks = list(chunked(list_of_strings, 30))\n",
        "#step 1:\n",
        "mapped = map(chunks_mapper, data_chunks)\n",
        "#step 2:\n",
        "reduced = reduce(reducer, mapped)\n",
        "print(reduced)"
      ],
      "metadata": {
        "colab": {
          "base_uri": "https://localhost:8080/"
        },
        "id": "IALxO5uGgZpG",
        "outputId": "96052222-7fb8-4639-d7c7-5b338c45f5c0"
      },
      "execution_count": 10,
      "outputs": [
        {
          "output_type": "stream",
          "name": "stdout",
          "text": [
            "('python', 6)\n",
            "CPU times: user 172 µs, sys: 0 ns, total: 172 µs\n",
            "Wall time: 178 µs\n"
          ]
        }
      ]
    },
    {
      "cell_type": "code",
      "source": [
        "from multiprocessing import Pool\n",
        "pool = Pool(8)\n",
        "data_chunks = list(chunked(large_list_of_strings,8))\n",
        "def mapper(chunk):\n",
        "    return (chunk, len(chunk))\n",
        "#step 1:\n",
        "mapped = pool.map(mapper, data_chunks)\n",
        "#step 2:\n",
        "reduced = reduce(reducer, mapped)\n",
        "print(reduced)"
      ],
      "metadata": {
        "id": "U4KyJz7lkqhi"
      },
      "execution_count": null,
      "outputs": []
    },
    {
      "cell_type": "code",
      "source": [],
      "metadata": {
        "id": "JN4bvShukxq2"
      },
      "execution_count": null,
      "outputs": []
    }
  ]
}